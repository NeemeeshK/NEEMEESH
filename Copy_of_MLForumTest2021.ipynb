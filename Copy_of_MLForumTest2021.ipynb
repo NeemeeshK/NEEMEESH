{
  "nbformat": 4,
  "nbformat_minor": 0,
  "metadata": {
    "kernelspec": {
      "display_name": "Python 3",
      "language": "python",
      "name": "python3"
    },
    "language_info": {
      "codemirror_mode": {
        "name": "ipython",
        "version": 3
      },
      "file_extension": ".py",
      "mimetype": "text/x-python",
      "name": "python",
      "nbconvert_exporter": "python",
      "pygments_lexer": "ipython3",
      "version": "3.7.6"
    },
    "colab": {
      "name": "Copy of MLForumTest2021.ipynb",
      "provenance": []
    }
  },
  "cells": [
    {
      "cell_type": "markdown",
      "metadata": {
        "id": "5bysNySLzP_w"
      },
      "source": [
        "# **Instructions**\n",
        "\n",
        "**1. The questions have been provided and you have to write the answer which will be a python code to do the task as mentioned in the question. We have mentioned in which cells do you have to write your answers**\n",
        "\n",
        "**2. Please sumbit the file on the form and rename the file as yourname_GRno.ipynb**\n",
        "\n",
        "**3. Run the cells by pressing Shift+Enter**"
      ]
    },
    {
      "cell_type": "markdown",
      "metadata": {
        "id": "C0csZ-IRzebq"
      },
      "source": [
        " ."
      ]
    },
    {
      "cell_type": "code",
      "metadata": {
        "id": "ZetY4AG1cuqM"
      },
      "source": [
        "#Run this cell to import all libraries\n",
        "import numpy as np\n",
        "import pandas as pd\n",
        "import matplotlib.pyplot as plt\n",
        "%matplotlib inline"
      ],
      "execution_count": 1,
      "outputs": []
    },
    {
      "cell_type": "markdown",
      "metadata": {
        "id": "EW0g_TY1wQjj"
      },
      "source": [
        "**Given a string 'UcjamkcRmKJDmpsk', convert it to a string in which all characters ascii value is increased by 2**"
      ]
    },
    {
      "cell_type": "markdown",
      "metadata": {
        "id": "cUG5OdyswQjk"
      },
      "source": [
        "**For example 'hi' will become 'jk'**"
      ]
    },
    {
      "cell_type": "code",
      "metadata": {
        "id": "tHUqwyR6wQkA",
        "colab": {
          "base_uri": "https://localhost:8080/"
        },
        "outputId": "40967adf-cdd2-4531-ab31-e6b014402825"
      },
      "source": [
        "string = 'UcjamkcRmKJDmpsk'\n",
        "\n",
        "for i in string : \n",
        "  ascii_val = ord(i)\n",
        "  ascii_val = ascii_val + 2 \n",
        "  print(chr(ascii_val),end=\"\")"
      ],
      "execution_count": 12,
      "outputs": [
        {
          "output_type": "stream",
          "text": [
            "WelcomeToMLForum"
          ],
          "name": "stdout"
        }
      ]
    },
    {
      "cell_type": "markdown",
      "metadata": {
        "id": "jNVZSXVv07wq"
      },
      "source": [
        "**Given a Python Function**\n",
        "```\n",
        "  def add(a,b,c):\n",
        "     x = a + b\n",
        "     y = x + c\n",
        "```\n",
        "**What will be the data type or value returned**\n",
        "\n",
        "\n"
      ]
    },
    {
      "cell_type": "code",
      "metadata": {
        "id": "0fZQSwOU067-"
      },
      "source": [
        "#Answer here in words\n",
        "There is no return statement. Nothing will be returned."
      ],
      "execution_count": null,
      "outputs": []
    },
    {
      "cell_type": "markdown",
      "metadata": {
        "id": "-q7qsxMawQkB"
      },
      "source": [
        "**Write what is the use of 'self' in classes**"
      ]
    },
    {
      "cell_type": "code",
      "metadata": {
        "id": "RwGB5UstwQkC"
      },
      "source": [
        "#Answer here in words\n",
        "By using the “self” keyword we can access the attributes and methods of the class in python."
      ],
      "execution_count": null,
      "outputs": []
    },
    {
      "cell_type": "markdown",
      "metadata": {
        "id": "H1Mr0vm0wQkC"
      },
      "source": [
        "**Slice the Following list to print all elements from index 6 to 10(0 indexing)**"
      ]
    },
    {
      "cell_type": "code",
      "metadata": {
        "id": "uSBVBl3HwQkD",
        "colab": {
          "base_uri": "https://localhost:8080/"
        },
        "outputId": "6d1ff2fc-0567-43fb-97e9-002061188e92"
      },
      "source": [
        "# Run this cell\n",
        "arr = np.arange(10,25)\n",
        "arr"
      ],
      "execution_count": 13,
      "outputs": [
        {
          "output_type": "execute_result",
          "data": {
            "text/plain": [
              "array([10, 11, 12, 13, 14, 15, 16, 17, 18, 19, 20, 21, 22, 23, 24])"
            ]
          },
          "metadata": {},
          "execution_count": 13
        }
      ]
    },
    {
      "cell_type": "code",
      "metadata": {
        "id": "aQtRkE0ywQkD",
        "colab": {
          "base_uri": "https://localhost:8080/"
        },
        "outputId": "bd5e8b66-a76d-4006-cbd6-77735254e096"
      },
      "source": [
        "#Answer here\n",
        "arr[6:11]"
      ],
      "execution_count": 14,
      "outputs": [
        {
          "output_type": "execute_result",
          "data": {
            "text/plain": [
              "array([16, 17, 18, 19, 20])"
            ]
          },
          "metadata": {},
          "execution_count": 14
        }
      ]
    },
    {
      "cell_type": "markdown",
      "metadata": {
        "id": "h2HpTkVTwQkE"
      },
      "source": [
        "**Write a one liner to swap 2 elements x and y**"
      ]
    },
    {
      "cell_type": "code",
      "metadata": {
        "id": "icGpH3sPwQkE"
      },
      "source": [
        "#Answer here\n",
        "x,y=y,x"
      ],
      "execution_count": null,
      "outputs": []
    },
    {
      "cell_type": "markdown",
      "metadata": {
        "id": "_qnQoLIbwQkF"
      },
      "source": [
        "**Sort the following list by first character of their respective strings**\n",
        "\n",
        "---\n",
        "\n"
      ]
    },
    {
      "cell_type": "code",
      "metadata": {
        "id": "vFVEK_BuwQkF",
        "colab": {
          "base_uri": "https://localhost:8080/"
        },
        "outputId": "0c028b66-df93-4097-cfd4-3e5f68ff2068"
      },
      "source": [
        "list = ['Rohan','Shlok','Aiman']\n",
        "#Answer here\n",
        "print(sorted(list))"
      ],
      "execution_count": 15,
      "outputs": [
        {
          "output_type": "stream",
          "text": [
            "['Aiman', 'Rohan', 'Shlok']\n"
          ],
          "name": "stdout"
        }
      ]
    },
    {
      "cell_type": "markdown",
      "metadata": {
        "id": "enhjklyLwQkG"
      },
      "source": [
        "**Reshape the Following array to size (2,5)**"
      ]
    },
    {
      "cell_type": "code",
      "metadata": {
        "id": "Cec9GQYOwQkG",
        "colab": {
          "base_uri": "https://localhost:8080/"
        },
        "outputId": "16bd58e5-5f9a-454f-b137-000193bacbd1"
      },
      "source": [
        "#Run this cell\n",
        "arr = np.arange(10)\n",
        "arr"
      ],
      "execution_count": 19,
      "outputs": [
        {
          "output_type": "execute_result",
          "data": {
            "text/plain": [
              "array([0, 1, 2, 3, 4, 5, 6, 7, 8, 9])"
            ]
          },
          "metadata": {},
          "execution_count": 19
        }
      ]
    },
    {
      "cell_type": "code",
      "metadata": {
        "id": "Qu9rdVGtwQkG",
        "colab": {
          "base_uri": "https://localhost:8080/"
        },
        "outputId": "4eed3947-3558-45f9-9ab7-35fa4c901c03"
      },
      "source": [
        "#Answer here\n",
        "arr.reshape(2,5)"
      ],
      "execution_count": 20,
      "outputs": [
        {
          "output_type": "execute_result",
          "data": {
            "text/plain": [
              "array([[0, 1, 2, 3, 4],\n",
              "       [5, 6, 7, 8, 9]])"
            ]
          },
          "metadata": {},
          "execution_count": 20
        }
      ]
    },
    {
      "cell_type": "markdown",
      "metadata": {
        "id": "NQx9kdOIwQkH"
      },
      "source": [
        "**Create a 3D numpy array with zeroes only with size (2,3,4) and in the next cell display that arrays[0]**"
      ]
    },
    {
      "cell_type": "code",
      "metadata": {
        "id": "dVyVhlgxwQkH",
        "colab": {
          "base_uri": "https://localhost:8080/"
        },
        "outputId": "d575d257-1f5d-451f-ed75-7cd46f8cd570"
      },
      "source": [
        "#Answer here\n",
        "arr=np.zeros((2,3,4))"
      ],
      "execution_count": 22,
      "outputs": [
        {
          "output_type": "execute_result",
          "data": {
            "text/plain": [
              "array([[[0., 0., 0., 0.],\n",
              "        [0., 0., 0., 0.],\n",
              "        [0., 0., 0., 0.]],\n",
              "\n",
              "       [[0., 0., 0., 0.],\n",
              "        [0., 0., 0., 0.],\n",
              "        [0., 0., 0., 0.]]])"
            ]
          },
          "metadata": {},
          "execution_count": 22
        }
      ]
    },
    {
      "cell_type": "code",
      "metadata": {
        "id": "AMsG-s9owQkI",
        "colab": {
          "base_uri": "https://localhost:8080/"
        },
        "outputId": "4773f7d6-57c1-42f0-94b6-4e6cf5840db5"
      },
      "source": [
        "#Answer here\n",
        "arr"
      ],
      "execution_count": 23,
      "outputs": [
        {
          "output_type": "execute_result",
          "data": {
            "text/plain": [
              "array([0, 1, 2, 3, 4, 5, 6, 7, 8, 9])"
            ]
          },
          "metadata": {},
          "execution_count": 23
        }
      ]
    },
    {
      "cell_type": "markdown",
      "metadata": {
        "id": "pnF5iDlDwQkJ"
      },
      "source": [
        "**Read Salaries_pd.csv as a dataframe called sal.[use read_csv function]**"
      ]
    },
    {
      "cell_type": "code",
      "metadata": {
        "id": "2WKW4i7twQkJ"
      },
      "source": [
        "#Run this cell\n",
        "\n",
        "url = \"https://docs.google.com/spreadsheets/d/1GBYC1QRGvROBdN6NLV4g9WFlQYAjT8bTt8L6eHbu470/export?format=csv&gid=1174274804\"\n",
        "sal = pd.read_csv(url)"
      ],
      "execution_count": 27,
      "outputs": []
    },
    {
      "cell_type": "markdown",
      "metadata": {
        "id": "H5tvR82FwQkJ"
      },
      "source": [
        "**Print the DataFrame**"
      ]
    },
    {
      "cell_type": "code",
      "metadata": {
        "id": "JWaqnYZtwQkJ",
        "colab": {
          "base_uri": "https://localhost:8080/",
          "height": 585
        },
        "outputId": "62141755-be74-4e8c-f109-6b562e253c7b"
      },
      "source": [
        "#Answer here\n",
        "sal"
      ],
      "execution_count": 25,
      "outputs": [
        {
          "output_type": "execute_result",
          "data": {
            "text/html": [
              "<div>\n",
              "<style scoped>\n",
              "    .dataframe tbody tr th:only-of-type {\n",
              "        vertical-align: middle;\n",
              "    }\n",
              "\n",
              "    .dataframe tbody tr th {\n",
              "        vertical-align: top;\n",
              "    }\n",
              "\n",
              "    .dataframe thead th {\n",
              "        text-align: right;\n",
              "    }\n",
              "</style>\n",
              "<table border=\"1\" class=\"dataframe\">\n",
              "  <thead>\n",
              "    <tr style=\"text-align: right;\">\n",
              "      <th></th>\n",
              "      <th>Id</th>\n",
              "      <th>EmployeeName</th>\n",
              "      <th>JobTitle</th>\n",
              "      <th>BasePay</th>\n",
              "      <th>OvertimePay</th>\n",
              "      <th>OtherPay</th>\n",
              "      <th>Benefits</th>\n",
              "      <th>TotalPay</th>\n",
              "      <th>TotalPayBenefits</th>\n",
              "      <th>Year</th>\n",
              "      <th>Notes</th>\n",
              "      <th>Agency</th>\n",
              "      <th>Status</th>\n",
              "    </tr>\n",
              "  </thead>\n",
              "  <tbody>\n",
              "    <tr>\n",
              "      <th>0</th>\n",
              "      <td>1</td>\n",
              "      <td>NATHANIEL FORD</td>\n",
              "      <td>GENERAL MANAGER-METROPOLITAN TRANSIT AUTHORITY</td>\n",
              "      <td>167411.18</td>\n",
              "      <td>0.00</td>\n",
              "      <td>400184.25</td>\n",
              "      <td>NaN</td>\n",
              "      <td>567595.43</td>\n",
              "      <td>567595.43</td>\n",
              "      <td>2011</td>\n",
              "      <td>NaN</td>\n",
              "      <td>San Francisco</td>\n",
              "      <td>NaN</td>\n",
              "    </tr>\n",
              "    <tr>\n",
              "      <th>1</th>\n",
              "      <td>2</td>\n",
              "      <td>GARY JIMENEZ</td>\n",
              "      <td>CAPTAIN III (POLICE DEPARTMENT)</td>\n",
              "      <td>155966.02</td>\n",
              "      <td>245131.88</td>\n",
              "      <td>137811.38</td>\n",
              "      <td>NaN</td>\n",
              "      <td>538909.28</td>\n",
              "      <td>538909.28</td>\n",
              "      <td>2011</td>\n",
              "      <td>NaN</td>\n",
              "      <td>San Francisco</td>\n",
              "      <td>NaN</td>\n",
              "    </tr>\n",
              "    <tr>\n",
              "      <th>2</th>\n",
              "      <td>3</td>\n",
              "      <td>ALBERT PARDINI</td>\n",
              "      <td>CAPTAIN III (POLICE DEPARTMENT)</td>\n",
              "      <td>212739.13</td>\n",
              "      <td>106088.18</td>\n",
              "      <td>16452.60</td>\n",
              "      <td>NaN</td>\n",
              "      <td>335279.91</td>\n",
              "      <td>335279.91</td>\n",
              "      <td>2011</td>\n",
              "      <td>NaN</td>\n",
              "      <td>San Francisco</td>\n",
              "      <td>NaN</td>\n",
              "    </tr>\n",
              "    <tr>\n",
              "      <th>3</th>\n",
              "      <td>4</td>\n",
              "      <td>CHRISTOPHER CHONG</td>\n",
              "      <td>WIRE ROPE CABLE MAINTENANCE MECHANIC</td>\n",
              "      <td>77916.00</td>\n",
              "      <td>56120.71</td>\n",
              "      <td>198306.90</td>\n",
              "      <td>NaN</td>\n",
              "      <td>332343.61</td>\n",
              "      <td>332343.61</td>\n",
              "      <td>2011</td>\n",
              "      <td>NaN</td>\n",
              "      <td>San Francisco</td>\n",
              "      <td>NaN</td>\n",
              "    </tr>\n",
              "    <tr>\n",
              "      <th>4</th>\n",
              "      <td>5</td>\n",
              "      <td>PATRICK GARDNER</td>\n",
              "      <td>DEPUTY CHIEF OF DEPARTMENT,(FIRE DEPARTMENT)</td>\n",
              "      <td>134401.60</td>\n",
              "      <td>9737.00</td>\n",
              "      <td>182234.59</td>\n",
              "      <td>NaN</td>\n",
              "      <td>326373.19</td>\n",
              "      <td>326373.19</td>\n",
              "      <td>2011</td>\n",
              "      <td>NaN</td>\n",
              "      <td>San Francisco</td>\n",
              "      <td>NaN</td>\n",
              "    </tr>\n",
              "    <tr>\n",
              "      <th>...</th>\n",
              "      <td>...</td>\n",
              "      <td>...</td>\n",
              "      <td>...</td>\n",
              "      <td>...</td>\n",
              "      <td>...</td>\n",
              "      <td>...</td>\n",
              "      <td>...</td>\n",
              "      <td>...</td>\n",
              "      <td>...</td>\n",
              "      <td>...</td>\n",
              "      <td>...</td>\n",
              "      <td>...</td>\n",
              "      <td>...</td>\n",
              "    </tr>\n",
              "    <tr>\n",
              "      <th>148649</th>\n",
              "      <td>148650</td>\n",
              "      <td>Roy I Tillery</td>\n",
              "      <td>Custodian</td>\n",
              "      <td>0.00</td>\n",
              "      <td>0.00</td>\n",
              "      <td>0.00</td>\n",
              "      <td>0.0</td>\n",
              "      <td>0.00</td>\n",
              "      <td>0.00</td>\n",
              "      <td>2014</td>\n",
              "      <td>NaN</td>\n",
              "      <td>San Francisco</td>\n",
              "      <td>NaN</td>\n",
              "    </tr>\n",
              "    <tr>\n",
              "      <th>148650</th>\n",
              "      <td>148651</td>\n",
              "      <td>Not provided</td>\n",
              "      <td>Not provided</td>\n",
              "      <td>NaN</td>\n",
              "      <td>NaN</td>\n",
              "      <td>NaN</td>\n",
              "      <td>NaN</td>\n",
              "      <td>0.00</td>\n",
              "      <td>0.00</td>\n",
              "      <td>2014</td>\n",
              "      <td>NaN</td>\n",
              "      <td>San Francisco</td>\n",
              "      <td>NaN</td>\n",
              "    </tr>\n",
              "    <tr>\n",
              "      <th>148651</th>\n",
              "      <td>148652</td>\n",
              "      <td>Not provided</td>\n",
              "      <td>Not provided</td>\n",
              "      <td>NaN</td>\n",
              "      <td>NaN</td>\n",
              "      <td>NaN</td>\n",
              "      <td>NaN</td>\n",
              "      <td>0.00</td>\n",
              "      <td>0.00</td>\n",
              "      <td>2014</td>\n",
              "      <td>NaN</td>\n",
              "      <td>San Francisco</td>\n",
              "      <td>NaN</td>\n",
              "    </tr>\n",
              "    <tr>\n",
              "      <th>148652</th>\n",
              "      <td>148653</td>\n",
              "      <td>Not provided</td>\n",
              "      <td>Not provided</td>\n",
              "      <td>NaN</td>\n",
              "      <td>NaN</td>\n",
              "      <td>NaN</td>\n",
              "      <td>NaN</td>\n",
              "      <td>0.00</td>\n",
              "      <td>0.00</td>\n",
              "      <td>2014</td>\n",
              "      <td>NaN</td>\n",
              "      <td>San Francisco</td>\n",
              "      <td>NaN</td>\n",
              "    </tr>\n",
              "    <tr>\n",
              "      <th>148653</th>\n",
              "      <td>148654</td>\n",
              "      <td>Joe Lopez</td>\n",
              "      <td>Counselor, Log Cabin Ranch</td>\n",
              "      <td>0.00</td>\n",
              "      <td>0.00</td>\n",
              "      <td>-618.13</td>\n",
              "      <td>0.0</td>\n",
              "      <td>-618.13</td>\n",
              "      <td>-618.13</td>\n",
              "      <td>2014</td>\n",
              "      <td>NaN</td>\n",
              "      <td>San Francisco</td>\n",
              "      <td>NaN</td>\n",
              "    </tr>\n",
              "  </tbody>\n",
              "</table>\n",
              "<p>148654 rows × 13 columns</p>\n",
              "</div>"
            ],
            "text/plain": [
              "            Id       EmployeeName  ...         Agency  Status\n",
              "0            1     NATHANIEL FORD  ...  San Francisco     NaN\n",
              "1            2       GARY JIMENEZ  ...  San Francisco     NaN\n",
              "2            3     ALBERT PARDINI  ...  San Francisco     NaN\n",
              "3            4  CHRISTOPHER CHONG  ...  San Francisco     NaN\n",
              "4            5    PATRICK GARDNER  ...  San Francisco     NaN\n",
              "...        ...                ...  ...            ...     ...\n",
              "148649  148650      Roy I Tillery  ...  San Francisco     NaN\n",
              "148650  148651       Not provided  ...  San Francisco     NaN\n",
              "148651  148652       Not provided  ...  San Francisco     NaN\n",
              "148652  148653       Not provided  ...  San Francisco     NaN\n",
              "148653  148654          Joe Lopez  ...  San Francisco     NaN\n",
              "\n",
              "[148654 rows x 13 columns]"
            ]
          },
          "metadata": {},
          "execution_count": 25
        }
      ]
    },
    {
      "cell_type": "markdown",
      "metadata": {
        "id": "8oinTKrewQkK"
      },
      "source": [
        "***USE DATAFRAME QUERIES TO SOLVE BELOW PROBLEMS***"
      ]
    },
    {
      "cell_type": "markdown",
      "metadata": {
        "id": "DMO_YdUVwQkK"
      },
      "source": [
        " **What is the sum of TotalPay of all Employees?**"
      ]
    },
    {
      "cell_type": "code",
      "metadata": {
        "id": "0RW4RoKcwQkK",
        "colab": {
          "base_uri": "https://localhost:8080/"
        },
        "outputId": "123fa545-3995-40d8-a268-be526e0853d6"
      },
      "source": [
        "#Answer here\n",
        "sal[\"TotalPay\"].sum()"
      ],
      "execution_count": 28,
      "outputs": [
        {
          "output_type": "execute_result",
          "data": {
            "text/plain": [
              "11114610134.380001"
            ]
          },
          "metadata": {},
          "execution_count": 28
        }
      ]
    },
    {
      "cell_type": "markdown",
      "metadata": {
        "id": "Ns3ZR0n6wQkL"
      },
      "source": [
        "**What is the Job Title of 'CHRISTOPHER CHONG'?**"
      ]
    },
    {
      "cell_type": "code",
      "metadata": {
        "id": "1gCIDJsQwQkL",
        "colab": {
          "base_uri": "https://localhost:8080/"
        },
        "outputId": "ed9621d2-7378-487d-9a96-1e3ab8ec442e"
      },
      "source": [
        "#Answer here\n",
        "sal[sal.EmployeeName==\"CHRISTOPHER CHONG\"][\"JobTitle\"]"
      ],
      "execution_count": 51,
      "outputs": [
        {
          "output_type": "execute_result",
          "data": {
            "text/plain": [
              "3    WIRE ROPE CABLE MAINTENANCE MECHANIC\n",
              "Name: JobTitle, dtype: object"
            ]
          },
          "metadata": {},
          "execution_count": 51
        }
      ]
    },
    {
      "cell_type": "markdown",
      "metadata": {
        "id": "X-58mtgLwQkL"
      },
      "source": [
        "  **What is the average BasePay in year 2013?**"
      ]
    },
    {
      "cell_type": "code",
      "metadata": {
        "scrolled": true,
        "id": "mqO-Xr03wQkL",
        "colab": {
          "base_uri": "https://localhost:8080/"
        },
        "outputId": "c10a117b-3939-4eb8-8c10-c8fe021b244f"
      },
      "source": [
        "#Answer here\n",
        "sal[\"BasePay\"].mean()"
      ],
      "execution_count": 35,
      "outputs": [
        {
          "output_type": "execute_result",
          "data": {
            "text/plain": [
              "66325.44884050643"
            ]
          },
          "metadata": {},
          "execution_count": 35
        }
      ]
    },
    {
      "cell_type": "markdown",
      "metadata": {
        "id": "7xIc4y5zwQkM"
      },
      "source": [
        "**What is the minimum TotalPay in the dataset?**"
      ]
    },
    {
      "cell_type": "code",
      "metadata": {
        "id": "pFmd7RkNwQkM",
        "colab": {
          "base_uri": "https://localhost:8080/"
        },
        "outputId": "4523e17e-2e8e-4184-92aa-332d3e54296e"
      },
      "source": [
        "#Answer here\n",
        "sal[\"TotalPay\"].min()"
      ],
      "execution_count": 36,
      "outputs": [
        {
          "output_type": "execute_result",
          "data": {
            "text/plain": [
              "-618.13"
            ]
          },
          "metadata": {},
          "execution_count": 36
        }
      ]
    },
    {
      "cell_type": "markdown",
      "metadata": {
        "id": "tEkf0nEHwQkM"
      },
      "source": [
        " **How much does ALBERT PARDINI make (including benefits) i.e. (TotalPayBenefits)?**"
      ]
    },
    {
      "cell_type": "code",
      "metadata": {
        "id": "GnT2N-R-wQkN",
        "colab": {
          "base_uri": "https://localhost:8080/"
        },
        "outputId": "66f3916b-1365-45de-8483-260dbcd7e282"
      },
      "source": [
        "#Answer here\n",
        "sal[sal.EmployeeName==\"ALBERT PARDINI\"][\"TotalPayBenefits\"]"
      ],
      "execution_count": 52,
      "outputs": [
        {
          "output_type": "execute_result",
          "data": {
            "text/plain": [
              "2    335279.91\n",
              "Name: TotalPayBenefits, dtype: float64"
            ]
          },
          "metadata": {},
          "execution_count": 52
        }
      ]
    },
    {
      "cell_type": "markdown",
      "metadata": {
        "id": "UQNtWgeJwQkN"
      },
      "source": [
        "**What is the name of highest paid person (including benefits)?**"
      ]
    },
    {
      "cell_type": "code",
      "metadata": {
        "id": "LRfDatUGwQkN",
        "colab": {
          "base_uri": "https://localhost:8080/"
        },
        "outputId": "9a3e1680-1194-4269-d934-200b7071c66d"
      },
      "source": [
        "#Answer here\n",
        "maximum=sal[\"TotalPayBenefits\"].max()\n",
        "sal[sal.TotalPayBenefits==maximum][\"EmployeeName\"]"
      ],
      "execution_count": 53,
      "outputs": [
        {
          "output_type": "execute_result",
          "data": {
            "text/plain": [
              "0    NATHANIEL FORD\n",
              "Name: EmployeeName, dtype: object"
            ]
          },
          "metadata": {},
          "execution_count": 53
        }
      ]
    },
    {
      "cell_type": "markdown",
      "metadata": {
        "id": "uwaHBNQRwQkO"
      },
      "source": [
        "**Plot any quadratic curve with x axis and y axis labeled along with title**"
      ]
    },
    {
      "cell_type": "markdown",
      "metadata": {
        "id": "kopEo_BdwQkO"
      },
      "source": [
        "**You would have to create your own x and y values respectively**"
      ]
    },
    {
      "cell_type": "code",
      "metadata": {
        "id": "yBaudpcDwQkO"
      },
      "source": [
        "#Answer here\n",
        "x = [1,2,3,4,5,6,7,8,9,10]"
      ],
      "execution_count": 43,
      "outputs": []
    },
    {
      "cell_type": "code",
      "metadata": {
        "id": "R1ypNWNpwQkO"
      },
      "source": [
        "#Answer here\n",
        "y = [i**2 for i in x]"
      ],
      "execution_count": 47,
      "outputs": []
    },
    {
      "cell_type": "code",
      "metadata": {
        "id": "Yzcz1HvBwQkO",
        "colab": {
          "base_uri": "https://localhost:8080/",
          "height": 312
        },
        "outputId": "c3ce5fd1-89d2-442a-bd02-eeaee13cf669"
      },
      "source": [
        "#Plot the graph here\n",
        "plt.plot(x,y)\n",
        "plt.xlabel(\"X-axis\")\n",
        "plt.ylabel(\"Y-axis\")\n",
        "plt.title(\"Polynomial Function\")"
      ],
      "execution_count": 48,
      "outputs": [
        {
          "output_type": "execute_result",
          "data": {
            "text/plain": [
              "Text(0.5, 1.0, 'Polynomial Function')"
            ]
          },
          "metadata": {},
          "execution_count": 48
        },
        {
          "output_type": "display_data",
          "data": {
            "image/png": "[encoded data removed]",
            "text/plain": [
              "<Figure size 432x288 with 1 Axes>"
            ]
          },
          "metadata": {
            "needs_background": "light"
          }
        }
      ]
    }
  ]
}